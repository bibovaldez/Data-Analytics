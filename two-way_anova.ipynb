{
 "cells": [
  {
   "attachments": {},
   "cell_type": "markdown",
   "metadata": {},
   "source": [
    "# Two-way Anova"
   ]
  },
  {
   "cell_type": "code",
   "execution_count": 8,
   "metadata": {},
   "outputs": [],
   "source": [
    "import pandas as pd\n",
    "import numpy as np\n",
    "from statsmodels.formula.api import ols\n",
    "from statsmodels.stats.anova import anova_lm"
   ]
  },
  {
   "cell_type": "code",
   "execution_count": 18,
   "metadata": {},
   "outputs": [],
   "source": [
    "# data\n",
    "# Create a list of the data\n",
    "data = [\n",
    "    ('Fertilizer A', 10, 50),\n",
    "    ('Fertilizer A', 10, 60),\n",
    "    ('Fertilizer A', 10, 70),\n",
    "    ('Fertilizer B', 10, 50),\n",
    "    ('Fertilizer B', 10, 60),\n",
    "    ('Fertilizer B', 10, 70),\n",
    "    ('Fertilizer C', 10, 50),\n",
    "    ('Fertilizer C', 10, 60),\n",
    "    ('Fertilizer C', 10, 70),\n",
    "]\n",
    "\n",
    "# Create a Pandas DataFrame from the list\n",
    "df = pd.DataFrame(data, columns=['fertilizer_type', 'planting_density', 'crop_yield'])"
   ]
  },
  {
   "cell_type": "code",
   "execution_count": 19,
   "metadata": {},
   "outputs": [],
   "source": [
    "# Create a linear model\n",
    "model = ols('crop_yield ~ fertilizer_type + planting_density + fertilizer_type:planting_density', data=df).fit()"
   ]
  },
  {
   "cell_type": "code",
   "execution_count": 20,
   "metadata": {},
   "outputs": [],
   "source": [
    "# Perform the ANOVA test\n",
    "anova_results = anova_lm(model)"
   ]
  },
  {
   "cell_type": "code",
   "execution_count": 21,
   "metadata": {},
   "outputs": [
    {
     "name": "stdout",
     "output_type": "stream",
     "text": [
      "                                   df        sum_sq       mean_sq  \\\n",
      "fertilizer_type                   2.0  2.357338e-30  1.178669e-30   \n",
      "planting_density                  1.0  4.514468e+01  4.514468e+01   \n",
      "fertilizer_type:planting_density  2.0  3.048553e+02  1.524277e+02   \n",
      "Residual                          6.0  6.000000e+02  1.000000e+02   \n",
      "\n",
      "                                             F    PR(>F)  \n",
      "fertilizer_type                   1.178669e-32  1.000000  \n",
      "planting_density                  4.514468e-01  0.526659  \n",
      "fertilizer_type:planting_density  1.524277e+00  0.291552  \n",
      "Residual                                   NaN       NaN  \n"
     ]
    }
   ],
   "source": [
    "# Print the ANOVA table\n",
    "print(anova_results)"
   ]
  },
  {
   "cell_type": "code",
   "execution_count": null,
   "metadata": {},
   "outputs": [],
   "source": []
  }
 ],
 "metadata": {
  "kernelspec": {
   "display_name": "base",
   "language": "python",
   "name": "python3"
  },
  "language_info": {
   "codemirror_mode": {
    "name": "ipython",
    "version": 3
   },
   "file_extension": ".py",
   "mimetype": "text/x-python",
   "name": "python",
   "nbconvert_exporter": "python",
   "pygments_lexer": "ipython3",
   "version": "3.11.4"
  },
  "orig_nbformat": 4
 },
 "nbformat": 4,
 "nbformat_minor": 2
}
